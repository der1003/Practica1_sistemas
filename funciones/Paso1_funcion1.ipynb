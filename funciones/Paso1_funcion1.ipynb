{
 "cells": [
  {
   "cell_type": "markdown",
   "id": "d9405055-cc29-4877-b93f-5e31ab0d5a22",
   "metadata": {},
   "source": [
    "Paso 1: Primera función"
   ]
  },
  {
   "cell_type": "code",
   "execution_count": null,
   "id": "9ead3fa2-eda2-435d-95b6-74aebccb3fbb",
   "metadata": {},
   "outputs": [],
   "source": [
    "import pydicom as dcm\n",
    "from pathlib import Path\n",
    "import tkinter\n",
    "\n",
    "def Load_Slices(directorio):\n",
    "    informacionDICOM=[]\n",
    "    for nombre in Path(directorio).glob(\"*.dcm\"):\n",
    "      print(f\"Loading: {nombre}\")\n",
    "      informacionDICOM.append(dcm.dcmread(nombre))\n",
    "\n",
    "    return informacionDICOM"
   ]
  },
  {
   "cell_type": "code",
   "execution_count": null,
   "id": "776db503-fcc9-4c79-a75b-793e11bf58c0",
   "metadata": {},
   "outputs": [],
   "source": [
    "from tkinter import filedialog\n",
    "foldername=filedialog.askdirectory(title='')#se abre una ventana emergente que permite al usuario seleccionar un directorio\n",
    "print(foldername)\n",
    "Load_Slices(foldername)"
   ]
  }
 ],
 "metadata": {
  "kernelspec": {
   "display_name": "Python 3 (ipykernel)",
   "language": "python",
   "name": "python3"
  },
  "language_info": {
   "codemirror_mode": {
    "name": "ipython",
    "version": 3
   },
   "file_extension": ".py",
   "mimetype": "text/x-python",
   "name": "python",
   "nbconvert_exporter": "python",
   "pygments_lexer": "ipython3",
   "version": "3.8.20"
  }
 },
 "nbformat": 4,
 "nbformat_minor": 5
}
