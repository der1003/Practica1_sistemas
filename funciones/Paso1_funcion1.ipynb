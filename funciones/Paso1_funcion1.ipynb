{
 "cells": [
  {
   "cell_type": "markdown",
   "id": "d9405055-cc29-4877-b93f-5e31ab0d5a22",
   "metadata": {},
   "source": [
    "Paso 1: Primera función"
   ]
  },
  {
   "cell_type": "code",
   "execution_count": null,
   "id": "9ead3fa2-eda2-435d-95b6-74aebccb3fbb",
   "metadata": {},
   "outputs": [],
   "source": [
    "import pydicom as dcm\n",
    "from pathlib import Path\n",
    "import tkinter\n",
    "\n",
    "def Load_Slices(directorio):\n",
    "    informacionDICOM=[]\n",
    "    for nombre in Path(directorio).glob(\"*.dcm\"):\n",
    "      print(f\"Loading: {nombre}\")\n",
    "      informacionDICOM.append(dcm.dcmread(nombre))\n",
    "\n",
    "    return informacionDICOM"
   ]
  },
  {
   "cell_type": "code",
   "execution_count": null,
   "id": "776db503-fcc9-4c79-a75b-793e11bf58c0",
   "metadata": {},
   "outputs": [],
   "source": [
    "from tkinter import filedialog\n",
    "foldername=filedialog.askdirectory(title='')#se abre una ventana emergente que permite al usuario seleccionar un directorio\n",
    "print(foldername)\n",
    "Load_Slices(foldername)"
   ]
  },
  {
   "cell_type": "code",
   "execution_count": null,
   "id": "4c9dd47c-87d4-4e0a-ba75-a198fd41a79e",
   "metadata": {},
   "outputs": [],
   "source": [
    "def OrientacionCorte (dato):#ds son los datos sacados del DICOM\n",
    "    orientacion=dato.ImageOrientationPatient #es un atributo que describe la orientación espacial de la imagen,utilizando 6 valores que representan 2 vectores ortogonales\n",
    "    redondeo = [round(x) for x in orientacion] #redondea los valores del vector iop para eliminar imprecisiones numericas y trabajar con valores más claros (cercanos a 0 o 1)\n",
    "    plano_cruzado = np.cross(redondeo[0:3], redondeo[3:6]) #calcula el producto cruzado entre los 2 vectores. Genera un nuevo vector perpendicular a los 2 originales, que corresponde al eje en el que está cortada la imagen\n",
    "    plano = [abs(x) for x in plano_cruzado] #toma el valor absoluto de cada componente del vector para poder comparar\n",
    "    if plano[0] == 1: #verifica que componente del vector es dominante para determinar la orientación del plano (mayor valor absoluto)\n",
    "        return 'Sagital'\n",
    "    elif plano[1] == 1:\n",
    "        return 'Coronal'\n",
    "    elif plano[2] == 1:\n",
    "        return 'Axial'\n",
    "    else:\n",
    "        return 'NA'"
   ]
  },
  {
   "cell_type": "code",
   "execution_count": null,
   "id": "cb7b4a9e-57d3-4938-b0df-8123fdb459d0",
   "metadata": {},
   "outputs": [],
   "source": []
  }
 ],
 "metadata": {
  "kernelspec": {
   "display_name": "Python 3 (ipykernel)",
   "language": "python",
   "name": "python3"
  },
  "language_info": {
   "codemirror_mode": {
    "name": "ipython",
    "version": 3
   },
   "file_extension": ".py",
   "mimetype": "text/x-python",
   "name": "python",
   "nbconvert_exporter": "python",
   "pygments_lexer": "ipython3",
   "version": "3.8.20"
  }
 },
 "nbformat": 4,
 "nbformat_minor": 5
}
